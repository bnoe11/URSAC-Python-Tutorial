{
 "cells": [
  {
   "cell_type": "markdown",
   "id": "d036fa06",
   "metadata": {},
   "source": [
    "# URSAC: Python Tutorial"
   ]
  },
  {
   "cell_type": "code",
   "execution_count": 839,
   "id": "195a7ca3",
   "metadata": {},
   "outputs": [],
   "source": [
    "import numpy as np\n",
    "import pandas as pd"
   ]
  },
  {
   "cell_type": "markdown",
   "id": "1886517a",
   "metadata": {},
   "source": [
    "Numpy: https://www.w3schools.com/python/numpy/numpy_intro.asp\n",
    "Pandas: https://www.w3schools.com/python/pandas/default.asp"
   ]
  },
  {
   "cell_type": "markdown",
   "id": "efa33de2",
   "metadata": {},
   "source": [
    "### Importing the Data"
   ]
  },
  {
   "cell_type": "code",
   "execution_count": 840,
   "id": "d62e222a",
   "metadata": {},
   "outputs": [],
   "source": [
    "combine = pd.read_csv(r'\\Users\\benno\\Desktop\\Sports Analytics Data\\nfl\\combinedata.csv')"
   ]
  },
  {
   "cell_type": "code",
   "execution_count": 841,
   "id": "f18cea68",
   "metadata": {},
   "outputs": [
    {
     "data": {
      "text/html": [
       "<div>\n",
       "<style scoped>\n",
       "    .dataframe tbody tr th:only-of-type {\n",
       "        vertical-align: middle;\n",
       "    }\n",
       "\n",
       "    .dataframe tbody tr th {\n",
       "        vertical-align: top;\n",
       "    }\n",
       "\n",
       "    .dataframe thead th {\n",
       "        text-align: right;\n",
       "    }\n",
       "</style>\n",
       "<table border=\"1\" class=\"dataframe\">\n",
       "  <thead>\n",
       "    <tr style=\"text-align: right;\">\n",
       "      <th></th>\n",
       "      <th>Player</th>\n",
       "      <th>Pos</th>\n",
       "      <th>Ht</th>\n",
       "      <th>Wt</th>\n",
       "      <th>Forty</th>\n",
       "      <th>Vertical</th>\n",
       "      <th>BenchReps</th>\n",
       "      <th>BroadJump</th>\n",
       "      <th>Cone</th>\n",
       "      <th>Shuttle</th>\n",
       "      <th>Year</th>\n",
       "      <th>Pfr_ID</th>\n",
       "      <th>AV</th>\n",
       "      <th>Team</th>\n",
       "      <th>Round</th>\n",
       "      <th>Pick</th>\n",
       "    </tr>\n",
       "  </thead>\n",
       "  <tbody>\n",
       "    <tr>\n",
       "      <th>0</th>\n",
       "      <td>John Abraham</td>\n",
       "      <td>OLB</td>\n",
       "      <td>76</td>\n",
       "      <td>252</td>\n",
       "      <td>4.55</td>\n",
       "      <td>NaN</td>\n",
       "      <td>NaN</td>\n",
       "      <td>NaN</td>\n",
       "      <td>NaN</td>\n",
       "      <td>NaN</td>\n",
       "      <td>2000</td>\n",
       "      <td>AbraJo00</td>\n",
       "      <td>26.0</td>\n",
       "      <td>New York Jets</td>\n",
       "      <td>1.0</td>\n",
       "      <td>13.0</td>\n",
       "    </tr>\n",
       "    <tr>\n",
       "      <th>1</th>\n",
       "      <td>Shaun Alexander</td>\n",
       "      <td>RB</td>\n",
       "      <td>72</td>\n",
       "      <td>218</td>\n",
       "      <td>4.58</td>\n",
       "      <td>NaN</td>\n",
       "      <td>NaN</td>\n",
       "      <td>NaN</td>\n",
       "      <td>NaN</td>\n",
       "      <td>NaN</td>\n",
       "      <td>2000</td>\n",
       "      <td>AlexSh00</td>\n",
       "      <td>26.0</td>\n",
       "      <td>Seattle Seahawks</td>\n",
       "      <td>1.0</td>\n",
       "      <td>19.0</td>\n",
       "    </tr>\n",
       "    <tr>\n",
       "      <th>2</th>\n",
       "      <td>Darnell Alford</td>\n",
       "      <td>OT</td>\n",
       "      <td>76</td>\n",
       "      <td>334</td>\n",
       "      <td>5.56</td>\n",
       "      <td>25.0</td>\n",
       "      <td>23.0</td>\n",
       "      <td>94.0</td>\n",
       "      <td>8.48</td>\n",
       "      <td>4.98</td>\n",
       "      <td>2000</td>\n",
       "      <td>AlfoDa20</td>\n",
       "      <td>0.0</td>\n",
       "      <td>Kansas City Chiefs</td>\n",
       "      <td>6.0</td>\n",
       "      <td>188.0</td>\n",
       "    </tr>\n",
       "    <tr>\n",
       "      <th>3</th>\n",
       "      <td>Kyle Allamon</td>\n",
       "      <td>TE</td>\n",
       "      <td>74</td>\n",
       "      <td>253</td>\n",
       "      <td>4.97</td>\n",
       "      <td>29.0</td>\n",
       "      <td>NaN</td>\n",
       "      <td>104.0</td>\n",
       "      <td>7.29</td>\n",
       "      <td>4.49</td>\n",
       "      <td>2000</td>\n",
       "      <td>NaN</td>\n",
       "      <td>0.0</td>\n",
       "      <td>NaN</td>\n",
       "      <td>NaN</td>\n",
       "      <td>NaN</td>\n",
       "    </tr>\n",
       "    <tr>\n",
       "      <th>4</th>\n",
       "      <td>Rashard Anderson</td>\n",
       "      <td>CB</td>\n",
       "      <td>74</td>\n",
       "      <td>206</td>\n",
       "      <td>4.55</td>\n",
       "      <td>34.0</td>\n",
       "      <td>NaN</td>\n",
       "      <td>123.0</td>\n",
       "      <td>7.18</td>\n",
       "      <td>4.15</td>\n",
       "      <td>2000</td>\n",
       "      <td>AndeRa21</td>\n",
       "      <td>6.0</td>\n",
       "      <td>Carolina Panthers</td>\n",
       "      <td>1.0</td>\n",
       "      <td>23.0</td>\n",
       "    </tr>\n",
       "  </tbody>\n",
       "</table>\n",
       "</div>"
      ],
      "text/plain": [
       "             Player  Pos  Ht   Wt  Forty  Vertical  BenchReps  BroadJump  \\\n",
       "0      John Abraham  OLB  76  252   4.55       NaN        NaN        NaN   \n",
       "1   Shaun Alexander   RB  72  218   4.58       NaN        NaN        NaN   \n",
       "2    Darnell Alford   OT  76  334   5.56      25.0       23.0       94.0   \n",
       "3      Kyle Allamon   TE  74  253   4.97      29.0        NaN      104.0   \n",
       "4  Rashard Anderson   CB  74  206   4.55      34.0        NaN      123.0   \n",
       "\n",
       "   Cone  Shuttle  Year    Pfr_ID    AV                Team  Round   Pick  \n",
       "0   NaN      NaN  2000  AbraJo00  26.0       New York Jets    1.0   13.0  \n",
       "1   NaN      NaN  2000  AlexSh00  26.0    Seattle Seahawks    1.0   19.0  \n",
       "2  8.48     4.98  2000  AlfoDa20   0.0  Kansas City Chiefs    6.0  188.0  \n",
       "3  7.29     4.49  2000       NaN   0.0                 NaN    NaN    NaN  \n",
       "4  7.18     4.15  2000  AndeRa21   6.0   Carolina Panthers    1.0   23.0  "
      ]
     },
     "execution_count": 841,
     "metadata": {},
     "output_type": "execute_result"
    }
   ],
   "source": [
    "combine.head()"
   ]
  },
  {
   "cell_type": "markdown",
   "id": "8b559589",
   "metadata": {},
   "source": [
    "### Data Cleaning"
   ]
  },
  {
   "cell_type": "code",
   "execution_count": 842,
   "id": "0f81aa0b",
   "metadata": {},
   "outputs": [],
   "source": [
    "combine['wasDrafted'] = combine['Pick'].notna()"
   ]
  },
  {
   "cell_type": "code",
   "execution_count": 843,
   "id": "924e0c12",
   "metadata": {},
   "outputs": [],
   "source": [
    "#basic conditional formatting\n",
    "oskill = combine[(combine['Pos'] == 'WR') | (combine['Pos'] == 'RB')]\n",
    "dskill = combine[(combine['Pos'] == 'CB') | (combine['Pos'] == 'FS') | (combine['Pos'] == 'SS')]"
   ]
  },
  {
   "cell_type": "code",
   "execution_count": 844,
   "id": "38b3bff2",
   "metadata": {},
   "outputs": [],
   "source": [
    "#.loc loc(row index,columns)\n",
    "rb = combine.loc[combine.Pos == 'RB', :]\n",
    "wr = combine.loc[combine.Pos == 'RB', :]\n",
    "cb = combine.loc[combine.Pos == 'CB', :]\n",
    "s = combine.loc[(combine.Pos == 'FS') & (combine.Pos == 'SS'), :]"
   ]
  },
  {
   "cell_type": "code",
   "execution_count": 845,
   "id": "f0c14446",
   "metadata": {},
   "outputs": [],
   "source": [
    "#removing null values\n",
    "#took out broad and vert for now\n",
    "osnew = oskill[(oskill['Forty'].notna()) & (oskill['Cone'].notna()) & (oskill['Shuttle'].notna()) & (oskill['Vertical'].notna()) & (oskill['BroadJump'].notna())]\n",
    "dsnew = dskill[(dskill['Forty'].notna()) & (dskill['Cone'].notna()) & (dskill['Shuttle'].notna()) & (dskill['Vertical'].notna()) & (dskill['BroadJump'].notna())]"
   ]
  },
  {
   "cell_type": "code",
   "execution_count": 846,
   "id": "97a8a2f3",
   "metadata": {},
   "outputs": [
    {
     "data": {
      "text/html": [
       "<div>\n",
       "<style scoped>\n",
       "    .dataframe tbody tr th:only-of-type {\n",
       "        vertical-align: middle;\n",
       "    }\n",
       "\n",
       "    .dataframe tbody tr th {\n",
       "        vertical-align: top;\n",
       "    }\n",
       "\n",
       "    .dataframe thead th {\n",
       "        text-align: right;\n",
       "    }\n",
       "</style>\n",
       "<table border=\"1\" class=\"dataframe\">\n",
       "  <thead>\n",
       "    <tr style=\"text-align: right;\">\n",
       "      <th></th>\n",
       "      <th>Player</th>\n",
       "      <th>Pos</th>\n",
       "      <th>Ht</th>\n",
       "      <th>Wt</th>\n",
       "      <th>Forty</th>\n",
       "      <th>Vertical</th>\n",
       "      <th>BroadJump</th>\n",
       "      <th>Cone</th>\n",
       "      <th>Shuttle</th>\n",
       "      <th>AV</th>\n",
       "      <th>Round</th>\n",
       "      <th>Pick</th>\n",
       "      <th>wasDrafted</th>\n",
       "    </tr>\n",
       "  </thead>\n",
       "  <tbody>\n",
       "    <tr>\n",
       "      <th>32</th>\n",
       "      <td>Keith Brown</td>\n",
       "      <td>RB</td>\n",
       "      <td>71</td>\n",
       "      <td>216</td>\n",
       "      <td>4.66</td>\n",
       "      <td>30.0</td>\n",
       "      <td>117.0</td>\n",
       "      <td>6.64</td>\n",
       "      <td>4.08</td>\n",
       "      <td>0.0</td>\n",
       "      <td>NaN</td>\n",
       "      <td>NaN</td>\n",
       "      <td>False</td>\n",
       "    </tr>\n",
       "    <tr>\n",
       "      <th>33</th>\n",
       "      <td>Demario Brown</td>\n",
       "      <td>RB</td>\n",
       "      <td>72</td>\n",
       "      <td>217</td>\n",
       "      <td>4.72</td>\n",
       "      <td>31.0</td>\n",
       "      <td>107.0</td>\n",
       "      <td>7.17</td>\n",
       "      <td>4.39</td>\n",
       "      <td>0.0</td>\n",
       "      <td>NaN</td>\n",
       "      <td>NaN</td>\n",
       "      <td>False</td>\n",
       "    </tr>\n",
       "    <tr>\n",
       "      <th>48</th>\n",
       "      <td>Doug Chapman</td>\n",
       "      <td>RB</td>\n",
       "      <td>70</td>\n",
       "      <td>215</td>\n",
       "      <td>4.56</td>\n",
       "      <td>38.5</td>\n",
       "      <td>128.0</td>\n",
       "      <td>6.84</td>\n",
       "      <td>4.20</td>\n",
       "      <td>3.0</td>\n",
       "      <td>3.0</td>\n",
       "      <td>88.0</td>\n",
       "      <td>True</td>\n",
       "    </tr>\n",
       "    <tr>\n",
       "      <th>58</th>\n",
       "      <td>Chris Cole</td>\n",
       "      <td>WR</td>\n",
       "      <td>72</td>\n",
       "      <td>191</td>\n",
       "      <td>4.37</td>\n",
       "      <td>37.5</td>\n",
       "      <td>125.0</td>\n",
       "      <td>6.76</td>\n",
       "      <td>4.09</td>\n",
       "      <td>1.0</td>\n",
       "      <td>3.0</td>\n",
       "      <td>70.0</td>\n",
       "      <td>True</td>\n",
       "    </tr>\n",
       "    <tr>\n",
       "      <th>60</th>\n",
       "      <td>Chris Coleman</td>\n",
       "      <td>WR</td>\n",
       "      <td>72</td>\n",
       "      <td>211</td>\n",
       "      <td>4.61</td>\n",
       "      <td>32.5</td>\n",
       "      <td>110.0</td>\n",
       "      <td>6.79</td>\n",
       "      <td>4.10</td>\n",
       "      <td>0.0</td>\n",
       "      <td>NaN</td>\n",
       "      <td>NaN</td>\n",
       "      <td>False</td>\n",
       "    </tr>\n",
       "  </tbody>\n",
       "</table>\n",
       "</div>"
      ],
      "text/plain": [
       "           Player Pos  Ht   Wt  Forty  Vertical  BroadJump  Cone  Shuttle  \\\n",
       "32    Keith Brown  RB  71  216   4.66      30.0      117.0  6.64     4.08   \n",
       "33  Demario Brown  RB  72  217   4.72      31.0      107.0  7.17     4.39   \n",
       "48   Doug Chapman  RB  70  215   4.56      38.5      128.0  6.84     4.20   \n",
       "58     Chris Cole  WR  72  191   4.37      37.5      125.0  6.76     4.09   \n",
       "60  Chris Coleman  WR  72  211   4.61      32.5      110.0  6.79     4.10   \n",
       "\n",
       "     AV  Round  Pick  wasDrafted  \n",
       "32  0.0    NaN   NaN       False  \n",
       "33  0.0    NaN   NaN       False  \n",
       "48  3.0    3.0  88.0        True  \n",
       "58  1.0    3.0  70.0        True  \n",
       "60  0.0    NaN   NaN       False  "
      ]
     },
     "execution_count": 846,
     "metadata": {},
     "output_type": "execute_result"
    }
   ],
   "source": [
    "#dropping columns\n",
    "osnew = osnew.drop(columns=['BenchReps','Year','Pfr_ID','Team'])\n",
    "dsnew = dsnew.drop(columns=['BenchReps','Year','Pfr_ID','Team'])\n",
    "osnew.head()"
   ]
  },
  {
   "cell_type": "markdown",
   "id": "4adcbfe7",
   "metadata": {},
   "source": [
    "### Simple Plots (with matplotlib & seaborn)"
   ]
  },
  {
   "cell_type": "code",
   "execution_count": 847,
   "id": "6bd4d28d",
   "metadata": {},
   "outputs": [],
   "source": [
    "wrdf = combine[combine['Pos'] == 'WR']\n",
    "wrdfclean = wrdf[(wrdf['Forty'].notna()) & (wrdf['Round'].notna())]"
   ]
  },
  {
   "cell_type": "code",
   "execution_count": 848,
   "id": "2eb46f47",
   "metadata": {},
   "outputs": [
    {
     "data": {
      "image/png": "[encoded data removed]",
      "text/plain": [
       "<Figure size 432x288 with 1 Axes>"
      ]
     },
     "metadata": {
      "needs_background": "light"
     },
     "output_type": "display_data"
    }
   ],
   "source": [
    "import matplotlib.pyplot as plt\n",
    "import seaborn as sns\n",
    "sns.boxplot(x = 'Round',\n",
    "            y = 'Forty',\n",
    "            data = wrdfclean,\n",
    "            palette = \"Blues_r\",\n",
    "            showmeans = True,\n",
    "            meanprops = {\"marker\":\"o\",\n",
    "                       \"markerfacecolor\":\"white\", \n",
    "                       \"markeredgecolor\":\"black\",\n",
    "                      \"markersize\":\"5\"})\n",
    "plt.ylabel('40 Yard Dash Times')\n",
    "plt.xlabel('Round Drafted')\n",
    "plt.title('40 Yard Dash by Round')\n",
    "plt.show()"
   ]
  },
  {
   "cell_type": "markdown",
   "id": "46762aa8",
   "metadata": {},
   "source": [
    "Matplotlib: https://matplotlib.org/stable/index.html Seaborn: https://seaborn.pydata.org/"
   ]
  },
  {
   "cell_type": "markdown",
   "id": "ca2b47db",
   "metadata": {},
   "source": [
    "### Classification (Logistic Regression)"
   ]
  },
  {
   "cell_type": "code",
   "execution_count": 849,
   "id": "e47faa2b",
   "metadata": {},
   "outputs": [],
   "source": [
    "x = osnew[['Ht','Wt','Forty', 'Cone', 'Shuttle','BroadJump','Vertical']]\n",
    "y = osnew['wasDrafted']"
   ]
  },
  {
   "cell_type": "code",
   "execution_count": 850,
   "id": "de9ac38d",
   "metadata": {},
   "outputs": [],
   "source": [
    "from sklearn.model_selection import train_test_split\n",
    "x_train, x_test, y_train, y_test = train_test_split(x, y, test_size = 0.25)"
   ]
  },
  {
   "cell_type": "code",
   "execution_count": 851,
   "id": "284d610f",
   "metadata": {},
   "outputs": [],
   "source": [
    "from sklearn.linear_model import LogisticRegression\n",
    "logR = LogisticRegression(max_iter = 1000000000)\n",
    "logR.fit(x_train, y_train)\n",
    "predicted = logR.predict(x_test)"
   ]
  },
  {
   "cell_type": "code",
   "execution_count": 852,
   "id": "185c919c",
   "metadata": {},
   "outputs": [
    {
     "data": {
      "text/plain": [
       "0.6813725490196079"
      ]
     },
     "execution_count": 852,
     "metadata": {},
     "output_type": "execute_result"
    }
   ],
   "source": [
    "score = logR.score(x_test,y_test)\n",
    "score"
   ]
  },
  {
   "cell_type": "markdown",
   "id": "1be5774e",
   "metadata": {},
   "source": [
    "Logistic Regression: https://scikit-learn.org/stable/modules/generated/sklearn.linear_model.LogisticRegression.html"
   ]
  },
  {
   "cell_type": "code",
   "execution_count": 853,
   "id": "26d339d2",
   "metadata": {},
   "outputs": [
    {
     "data": {
      "image/png": "[encoded data removed]",
      "text/plain": [
       "<Figure size 648x648 with 2 Axes>"
      ]
     },
     "metadata": {
      "needs_background": "light"
     },
     "output_type": "display_data"
    }
   ],
   "source": [
    "#confusion matrix using seaborn\n",
    "from sklearn import metrics\n",
    "cm = metrics.confusion_matrix(y_test, predicted)\n",
    "plt.figure(figsize = (9,9))\n",
    "sns.heatmap(cm, annot=True, cmap = 'YlOrBr')\n",
    "plt.ylabel('Actual Drafted')\n",
    "plt.xlabel('Predicted Drafted')\n",
    "plt.title('Accuracy Score: {0}'.format(score), size = 16)\n",
    "plt.show()"
   ]
  },
  {
   "cell_type": "markdown",
   "id": "2152b3ac",
   "metadata": {},
   "source": [
    "Confusion Matrix: https://scikit-learn.org/stable/modules/generated/sklearn.metrics.confusion_matrix.html"
   ]
  },
  {
   "cell_type": "markdown",
   "id": "cbbefc02",
   "metadata": {},
   "source": [
    "### Random Forest Model & Feature Importance"
   ]
  },
  {
   "cell_type": "code",
   "execution_count": 854,
   "id": "db76942e",
   "metadata": {},
   "outputs": [
    {
     "data": {
      "text/plain": [
       "0.6274509803921569"
      ]
     },
     "execution_count": 854,
     "metadata": {},
     "output_type": "execute_result"
    }
   ],
   "source": [
    "from sklearn.ensemble import RandomForestClassifier\n",
    "rf = RandomForestClassifier(n_estimators = 100)\n",
    "rf.fit(x_train, y_train)\n",
    "predicted2 = rf.predict(x_test)\n",
    "metrics.accuracy_score(y_test, predicted2)"
   ]
  },
  {
   "cell_type": "code",
   "execution_count": 855,
   "id": "11527f0d",
   "metadata": {},
   "outputs": [
    {
     "data": {
      "text/plain": [
       "Forty        0.222858\n",
       "Cone         0.162837\n",
       "Wt           0.141830\n",
       "Shuttle      0.140758\n",
       "Vertical     0.127496\n",
       "BroadJump    0.111981\n",
       "Ht           0.092240\n",
       "dtype: float64"
      ]
     },
     "execution_count": 855,
     "metadata": {},
     "output_type": "execute_result"
    }
   ],
   "source": [
    "feat = pd.Series(rf.feature_importances_, index = x.columns).sort_values(ascending = False)\n",
    "feat"
   ]
  },
  {
   "cell_type": "code",
   "execution_count": 881,
   "id": "1b8919dc",
   "metadata": {},
   "outputs": [
    {
     "name": "stderr",
     "output_type": "stream",
     "text": [
      "C:\\Users\\benno\\anaconda3\\lib\\site-packages\\sklearn\\base.py:450: UserWarning: X does not have valid feature names, but RandomForestClassifier was fitted with feature names\n",
      "  warnings.warn(\n"
     ]
    },
    {
     "data": {
      "text/plain": [
       "array([ True])"
      ]
     },
     "execution_count": 881,
     "metadata": {},
     "output_type": "execute_result"
    }
   ],
   "source": [
    "rf.predict([[71, 190, 4.4, 7, 4.1, 110, 32]])"
   ]
  },
  {
   "cell_type": "markdown",
   "id": "9a98ed8e",
   "metadata": {},
   "source": [
    "Random Forest Classifier: https://scikit-learn.org/stable/modules/generated/sklearn.ensemble.RandomForestClassifier.html"
   ]
  },
  {
   "cell_type": "markdown",
   "id": "8ead3d02",
   "metadata": {},
   "source": [
    "### Thank you! If you have any questions feel free to reach out to bnoe@u.rochester.edu or contact@rochestersportsanalytics.com"
   ]
  }
 ],
 "metadata": {
  "kernelspec": {
   "display_name": "Python 3 (ipykernel)",
   "language": "python",
   "name": "python3"
  },
  "language_info": {
   "codemirror_mode": {
    "name": "ipython",
    "version": 3
   },
   "file_extension": ".py",
   "mimetype": "text/x-python",
   "name": "python",
   "nbconvert_exporter": "python",
   "pygments_lexer": "ipython3",
   "version": "3.9.12"
  }
 },
 "nbformat": 4,
 "nbformat_minor": 5
}
